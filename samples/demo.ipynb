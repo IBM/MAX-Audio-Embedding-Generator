{
 "cells": [
  {
   "cell_type": "code",
   "execution_count": 9,
   "metadata": {},
   "outputs": [],
   "source": [
    "#\n",
    "# Copyright 2018-2019 IBM Corp. All Rights Reserved.\n",
    "#\n",
    "# Licensed under the Apache License, Version 2.0 (the \"License\");\n",
    "# you may not use this file except in compliance with the License.\n",
    "# You may obtain a copy of the License at\n",
    "#\n",
    "#     http://www.apache.org/licenses/LICENSE-2.0\n",
    "#\n",
    "# Unless required by applicable law or agreed to in writing, software\n",
    "# distributed under the License is distributed on an \"AS IS\" BASIS,\n",
    "# WITHOUT WARRANTIES OR CONDITIONS OF ANY KIND, either express or implied.\n",
    "# See the License for the specific language governing permissions and\n",
    "# limitations under the License.\n",
    "#"
   ]
  },
  {
   "cell_type": "code",
   "execution_count": null,
   "metadata": {},
   "outputs": [],
   "source": [
    "import os\n",
    "import sys\n",
    "import json\n",
    "import numpy as np\n",
    "import matplotlib\n",
    "from matplotlib import pyplot as plt\n",
    "import glob\n",
    "from sklearn.metrics.pairwise import cosine_similarity"
   ]
  },
  {
   "cell_type": "code",
   "execution_count": null,
   "metadata": {},
   "outputs": [],
   "source": [
    "#Replace the data directory here\n",
    "data_dir = 'demo_assets/'\n",
    "data_files = glob.glob(data_dir+\"/*.wav\")"
   ]
  },
  {
   "cell_type": "code",
   "execution_count": null,
   "metadata": {},
   "outputs": [],
   "source": [
    "#Calling the API for audio embedding, use the right port number in the below CURL command\n",
    "audio_len = 10\n",
    "i = 0\n",
    "embeddings = []\n",
    "for file in data_files:\n",
    "    print('Sending CURL command # '+str(i)+'\\n')\n",
    "    curl_string = str('curl -F \"audio=@'+file+'\" -XPOST http://127.0.0.1:5000/model/predict > out_'+str(i)+'.json')\n",
    "    print(curl_string)\n",
    "    os.system(curl_string)\n",
    "    current_embedding = open('out_'+str(i)+'.json', 'r')\n",
    "    current_embedding = json.load(current_embedding)\n",
    "    test = np.asarray(current_embedding['embedding'])\n",
    "    if(test.shape[0]>=audio_len):\n",
    "        test = test[0:audio_len,:]\n",
    "        test = test.flatten()\n",
    "        embeddings.append(test)\n",
    "        print(\"Embedding complete and saved to numpy array! Removing the json file.. \\n\")\n",
    "    else:\n",
    "        print(\"Audio length < 10 seconds.. skipping this file\")\n",
    "    os.system('rm -f '+'out_'+str(i)+'.json')\n",
    "    i = i+1"
   ]
  },
  {
   "cell_type": "code",
   "execution_count": null,
   "metadata": {},
   "outputs": [],
   "source": [
    "#Flattening the embeddings from 10X128 to 1x1280\n",
    "embeddings_norm = [x.reshape(1,-1) for x in embeddings]"
   ]
  },
  {
   "cell_type": "code",
   "execution_count": null,
   "metadata": {},
   "outputs": [],
   "source": [
    "#Computing cosine similarity\n",
    "n = len(embeddings)\n",
    "dist = np.zeros((n,n))\n",
    "for i in range(n):\n",
    "    for j in range(n):\n",
    "        dist[i,j] = float(cosine_similarity(embeddings_norm[i],embeddings_norm[j]))"
   ]
  },
  {
   "cell_type": "code",
   "execution_count": null,
   "metadata": {},
   "outputs": [],
   "source": [
    "#Labels for the graph/plot\n",
    "labels = [filen.replace(data_dir,'') for filen in data_files]\n",
    "labels = [filen.replace('.wav','') for filen in labels]"
   ]
  },
  {
   "cell_type": "code",
   "execution_count": null,
   "metadata": {},
   "outputs": [],
   "source": [
    "#Plotting the cosine similarity scores\n",
    "fig, ax = plt.subplots()\n",
    "im = ax.imshow(dist,cmap=\"summer\")\n",
    "\n",
    "# We want to show all ticks...\n",
    "ax.set_xticks(np.arange(len(labels)))\n",
    "ax.set_yticks(np.arange(len(labels)))\n",
    "# ... and label them with the respective list entries\n",
    "ax.set_xticklabels(labels,size = 5)\n",
    "ax.set_yticklabels(labels,size = 5)\n",
    "\n",
    "# Rotate the tick labels and set their alignment.\n",
    "plt.setp(ax.get_xticklabels(), rotation=45, ha=\"right\",\n",
    "         rotation_mode=\"anchor\")\n",
    "\n",
    "# Loop over data dimensions and create text annotations.\n",
    "for i in range(len(labels)):\n",
    "    for j in range(len(labels)):\n",
    "        text = ax.text(j, i, np.round(dist[i,j], decimals=2),\n",
    "                       ha=\"center\", va=\"center\", color=\"black\",size=3)\n",
    "\n",
    "ax.set_title(\"Cosine Similarity Between Normalized Embeddings\",size = 7)\n",
    "fig.tight_layout()\n",
    "\n",
    "matplotlib.rcParams['figure.dpi']= 400\n",
    "matplotlib.rc(\"savefig\", dpi=400)\n",
    "\n",
    "plt.savefig('heatmap.png')\n",
    "plt.show()"
   ]
  },
  {
   "cell_type": "code",
   "execution_count": null,
   "metadata": {},
   "outputs": [],
   "source": []
  },
  {
   "cell_type": "code",
   "execution_count": null,
   "metadata": {},
   "outputs": [],
   "source": []
  }
 ],
 "metadata": {
  "kernelspec": {
   "display_name": "Python 3",
   "language": "python",
   "name": "python3"
  },
  "language_info": {
   "codemirror_mode": {
    "name": "ipython",
    "version": 3
   },
   "file_extension": ".py",
   "mimetype": "text/x-python",
   "name": "python",
   "nbconvert_exporter": "python",
   "pygments_lexer": "ipython3",
   "version": "3.7.1"
  }
 },
 "nbformat": 4,
 "nbformat_minor": 2
}
